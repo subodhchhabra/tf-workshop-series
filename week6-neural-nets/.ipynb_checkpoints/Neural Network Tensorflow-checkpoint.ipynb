{
 "cells": [
  {
   "cell_type": "markdown",
   "metadata": {
    "deletable": true,
    "editable": true
   },
   "source": [
    "### Recap: The Learning Problem\n",
    "\n",
    "We have a large dataset of $(x, y)$ pairs where $x$ denotes a vector of features and $y$ denotes the label for that feature vector. We want to learn a function $h(x)$ that maps features to labels, with good generalization accuracy. We do this by minimizing a loss function computed on our dataset: $ \\sum_{i=1}^{N} L(y_i, h(x_i)) $. There are many loss functions we can choose. We have gone over the cross-entropy loss and variants of the squared error loss functions in previous workshops, and we will once again consider those today. \n",
    "\n",
    "\n",
    "### Review: A Single \"Neuron\", aka the Perceptron\n",
    "\n",
    "![perceptron](https://raw.githubusercontent.com/rohan-varma/rohan-blog/gh-pages/images/perceptron.png)\n",
    "\n",
    "A single perceptron first calculates a **weighted sum** of our inputs. This means that we multiply each of our features $(x_1, x_2, ... x_n) \\in x$ with an associated weight $(w_1, w_2, ... w_n)$ . We then take the sign of this linear combination, which and the sign tells us whether to classify this instance as a positive or negative example.\n",
    "\n",
    "$h(x) = sign(w^Tx + b) $\n",
    "\n",
    "We then moved on to logistic regression, where we changed our sign function to instead be a sigmoid ($\\sigma$) function. As a reminder, here's the sigmoid function: \n",
    "\n",
    "![sigmoid](https://upload.wikimedia.org/wikipedia/commons/thumb/8/88/Logistic-curve.svg/600px-Logistic-curve.svg.png)\n",
    "\n",
    "Therefore, the function we compute for logistic regression is $h(x) = \\sigma (w^Tx + b)$. \n",
    "\n",
    "The sigmoid function is commonly referred to as an \"activation\" function. When we say that a \"neuron computes an activation function\", it means that a standard linear combination is calculated ($w^Tx + b$) and then we apply a _non linear_ function to it, such as the sigmoid function. \n",
    "\n",
    "Here are a few other common activation functions: \n",
    "\n",
    "![tanh](http://www.dplot.com/functions/tanh.png)\n",
    "![relu](https://i.stack.imgur.com/8CGlM.png)\n",
    "\n",
    "\n",
    "### Review: From binary to multi-class classification\n",
    "\n",
    "The most important change in moving from a binary (negative/positive) classification model to one that can classify training instances into many different classes (say, 10, for MNIST) is that our vector of weights $w$ changes into a matrix $W$. \n",
    "\n",
    "Each row of weights we learn represents the parameters for a certain class: \n",
    "\n",
    "![weights](https://raw.githubusercontent.com/rohan-varma/rohan-blog/gh-pages/images/imagemap.jpg)\n",
    "\n",
    "We also want to take our output and normalize the results so that they all sum to one, so that we can interpret them as probabilities. This is commonly done using the _softmax_ function, which takes in a vector and returns another vector who's elements sum to 1, and each element is proportional in scale to what it was in the original vector. In binary classification we used the sigmoid function to compute probabilities. Now since we have a vector, we use the softmax function.  \n",
    "\n",
    "Here is our current model of learning, then:\n",
    "\n",
    "$h(x) = softmax(Wx + b) $. \n",
    "\n",
    "### Building up the neural network\n",
    "\n",
    "Now that we've figured out how to linearly model multi-class classification, we can create a basic neural network. Consider what happens when we combine the idea of artificial neurons with our softmax classifier. Instead of computing a linear function  $Wx + b$ and immediately passing the output to a softmax function, we have an intermediate step: pass the output of our linear combination to a vector of artificial neurons, which each compute a nonlinear function. \n",
    "\n",
    "The output of this \"layer\" of neurons can be multiplied with a matrix of weights again, and we can apply our softmax function to this result to produce our predictions. \n",
    "\n",
    "** Original function **: $h(x) = softmax(Wx + b)$\n",
    "\n",
    "** Neural Network function **: $h(x) = softmax(W_2(nonlin(W_1x + b_1)) + b_2)$\n",
    "\n",
    "The key differences are that we have more biases and weights, as well as a larger composition of functions. This function is harder to optimize, and introduces a few interesting ideas about learning the weights with an algorithm known as backpropagation.\n",
    "\n",
    "This “intermediate step” is actually known as a hidden layer, and we have complete control over it, meaning that among other things, we can vary the number of parameters or connections between weights and neurons to obtain an optimal network. It’s also important to notice that we can stack an arbitrary amount of these hidden layers between the input and output of our network, and we can tune these layers individually. This lets us make our network as deep as we want it. For example, here’s what a neural network with two hidden layers would look like:\n",
    "\n",
    "![neuralnet](https://raw.githubusercontent.com/rohan-varma/rohan-blog/gh-pages/images/neuralnet.png)\n",
    "\n",
    "We're now ready to start implementing a basic neural network in Tensorflow. \n"
   ]
  },
  {
   "cell_type": "code",
   "execution_count": 3,
   "metadata": {
    "collapsed": false,
    "deletable": true,
    "editable": true,
    "scrolled": false
   },
   "outputs": [
    {
     "name": "stdout",
     "output_type": "stream",
     "text": [
      "Extracting MNIST_data/train-images-idx3-ubyte.gz\n",
      "Extracting MNIST_data/train-labels-idx1-ubyte.gz\n",
      "Extracting MNIST_data/t10k-images-idx3-ubyte.gz\n",
      "Extracting MNIST_data/t10k-labels-idx1-ubyte.gz\n"
     ]
    },
    {
     "data": {
      "image/png": "[encoded data removed]",
      "text/plain": [
       "<matplotlib.figure.Figure at 0x11ba947f0>"
      ]
     },
     "metadata": {},
     "output_type": "display_data"
    },
    {
     "data": {
      "image/png": "[encoded data removed]",
      "text/plain": [
       "<matplotlib.figure.Figure at 0x11baa54a8>"
      ]
     },
     "metadata": {},
     "output_type": "display_data"
    },
    {
     "data": {
      "image/png": "[encoded data removed]",
      "text/plain": [
       "<matplotlib.figure.Figure at 0x11b922f98>"
      ]
     },
     "metadata": {},
     "output_type": "display_data"
    },
    {
     "data": {
      "image/png": "[encoded data removed]",
      "text/plain": [
       "<matplotlib.figure.Figure at 0x11b82f780>"
      ]
     },
     "metadata": {},
     "output_type": "display_data"
    },
    {
     "data": {
      "image/png": "[encoded data removed]",
      "text/plain": [
       "<matplotlib.figure.Figure at 0x11b825470>"
      ]
     },
     "metadata": {},
     "output_type": "display_data"
    },
    {
     "data": {
      "image/png": "[encoded data removed]",
      "text/plain": [
       "<matplotlib.figure.Figure at 0x11bd3ef60>"
      ]
     },
     "metadata": {},
     "output_type": "display_data"
    }
   ],
   "source": [
    "import tensorflow as tf\n",
    "import numpy as np\n",
    "import matplotlib.pyplot as plt\n",
    "\n",
    "from tensorflow.examples.tutorials.mnist import input_data\n",
    "mnist = input_data.read_data_sets('MNIST_data', one_hot=True) # reads in the MNIST dataset\n",
    "\n",
    "\n",
    "# a function that shows examples from the dataset. If num is specified (between 0 and 9), then only pictures with those labels will beused\n",
    "def show_pics(mnist, num = None):\n",
    "    to_show = list(range(10)) if not num else [num]*10 # figure out which numbers we should show\n",
    "    for i in range(100):\n",
    "        batch = mnist.train.next_batch(1) # gets some examples\n",
    "        pic, label = batch[0], batch[1]\n",
    "        if np.argmax(label) in to_show:\n",
    "            # use matplotlib to plot it\n",
    "            pic = pic.reshape((28,28))\n",
    "            plt.title(\"Label: {}\".format(np.argmax(label)))\n",
    "            plt.imshow(pic, cmap = 'binary')\n",
    "            plt.show()\n",
    "            to_show.remove(np.argmax(label))\n",
    "            \n",
    "            \n",
    "\n",
    "#show_pics(mnist)\n",
    "show_pics(mnist, 2)\n",
    "        \n",
    "        "
   ]
  },
  {
   "cell_type": "markdown",
   "metadata": {
    "deletable": true,
    "editable": true
   },
   "source": [
    "As usual, we would like to define several variables to represent our weight matrices and our biases. We will also need to create placeholders to hold our actual data. Anytime we want to create variables or placeholders, we must have a sense of the **shape** of our data so that Tensorflow has no issues in carrying out the numerical computations. \n",
    "\n",
    "In addition, neural networks rely on various hyperparameters, some of which will be defined below. Two important ones are the ** learning rate ** and the number of neurons in our hidden layer. Depending on these settings, the accuracy of the network may greatly change. "
   ]
  },
  {
   "cell_type": "code",
   "execution_count": 4,
   "metadata": {
    "collapsed": true,
    "deletable": true,
    "editable": true
   },
   "outputs": [],
   "source": [
    "# some functions for quick variable creation\n",
    "def weight_variable(shape):\n",
    "    return tf.Variable(tf.truncated_normal(shape, stddev = 0.1))\n",
    "\n",
    "def bias_variable(shape):\n",
    "    return tf.Variable(tf.constant(0.1, shape = shape))\n",
    "\n",
    "# hyperparameters we will use\n",
    "learning_rate = 0.1\n",
    "hidden_layer_neurons = 50\n",
    "num_iterations = 5000\n",
    "\n",
    "# placeholder variables\n",
    "x = tf.placeholder(tf.float32, shape = [None, 784]) # none = the size of that dimension doesn't matter. why is that okay here? \n",
    "y_ = tf.placeholder(tf.float32, shape = [None, 10])"
   ]
  },
  {
   "cell_type": "markdown",
   "metadata": {
    "deletable": true,
    "editable": true
   },
   "source": [
    "We will now actually create all of the variables we need, and define our neural network as a series of function computations. \n",
    "\n",
    "In our first layer, we take our inputs that have dimension $n * 784$, and multiply them with weights that have dimension $ 784 * k $, where $k$ is the number of neurons in the hidden layer. We then add the biases to this result, which also have a dimension of $k$. \n",
    "\n",
    "Finally, we apply a nonlinearity to our result. There are, as discussed, several choices, three of which are tanh, sigmoid, and rectifier. We have chosen to use the rectifier (also known as relu, standing for Rectified Linear Unit), since it has been shown in both research and practice that they tend to outperform and learn faster than other activation functions. \n",
    "\n",
    "Therefore, the \"activations\" of our hidden layer are given by $h_1 = relu(Wx + b)$. \n",
    "\n",
    "We follow a similar procedure for our output layer. Our activations have a shape $n * k$, where $n$ is the number of training examples we input into our network and $k$ is the number of neurons in our hidden layer. \n",
    "\n",
    "We want our final outputs to have dimension $n * 10$ (in the case of MNIST) since we have 10 classes. Therefore, it makes sense for our second matrix of weights to have dimension $k * 10$ and the bias to have dimension $10$. \n",
    "\n",
    "After taking the linear combination $W_2(h_1) + b$, we would then apply the softmax function. However, applying the softmax function and then writing out the cross-entropy loss ourself could result in numerical unstability, so we will instead use a library call that computes both the softmax outputs and the cross entropy loss. "
   ]
  },
  {
   "cell_type": "code",
   "execution_count": 6,
   "metadata": {
    "collapsed": false,
    "deletable": true,
    "editable": true
   },
   "outputs": [],
   "source": [
    "# create our weights and biases for our first hidden layer\n",
    "W_1, b_1 = weight_variable([784, hidden_layer_neurons]), bias_variable([hidden_layer_neurons])\n",
    "\n",
    "# compute activations of the hidden layer\n",
    "h_1 = tf.nn.relu(tf.matmul(x, W_1) + b_1)\n",
    "\n",
    "W_2_hidden = weight_variable([hidden_layer_neurons, 30])\n",
    "b_2_hidden = bias_variable([30])\n",
    "h_2 = tf.nn.relu(tf.matmul(h_1, W_2_hidden) + b_2_hidden)\n",
    "# create our weights and biases for our output layer\n",
    "W_2, b_2 = weight_variable([30, 10]), bias_variable([10])\n",
    "# compute the of the output layer\n",
    "y = tf.matmul(h_2,W_2) + b_2\n",
    "\n"
   ]
  },
  {
   "cell_type": "markdown",
   "metadata": {
    "deletable": true,
    "editable": true
   },
   "source": [
    "The cross entropy loss function is a commonly used loss function. For a single prediction/label pair, it is given by $C(h(x), y) = -\\sum_i y_i log(h(x_i))$.*\n",
    "\n",
    "Here, $y$ is a specific one-hot encoded label vector, meaning that it is a column vector that has a 1 at the index corresponding to its label, and is zero everywhere else. $ h(x) $ is the output of our prediction function whose elements sum to 1. As an example, we may have: \n",
    "\n",
    "$$y = \\begin{bmatrix}\n",
    "           1 \\\\\n",
    "           0 \\\\\n",
    "           0 \n",
    "         \\end{bmatrix}, h(x_i) = \\begin{bmatrix}\n",
    "           0.2 \\\\\n",
    "           0.7 \\\\\n",
    "           0.1 \n",
    "         \\end{bmatrix} \\longrightarrow{} C(y, h(x)) = -\\sum_{i=1}^{N}y_ilog(h(x_i)) = -log(0.2) = 0.61 $$\n",
    "         \n",
    "The contribution to the entire training data's loss by this pair was 0.61. To contrast, we can swap the first two probabilities in our softmax vector. We then end up with a lower loss: \n",
    "\n",
    "$$y = \\begin{bmatrix}\n",
    "           1 \\\\\n",
    "           0 \\\\\n",
    "           0 \n",
    "         \\end{bmatrix}, h(x) = \\begin{bmatrix}\n",
    "           0.7 \\\\\n",
    "           0.2 \\\\\n",
    "           0.1 \n",
    "         \\end{bmatrix} \\longrightarrow{} C(y, h(x)) = -\\sum_{i=1}^{N}y_ilog(h(x_i)) = -log(0.7) = 0.15 $$\n",
    "\n",
    "So our cross-entropy loss makes intuitive sense: it is lower when our softmax vector has a high probability at the index of the true label, and it is higher when our probabilities indicate a wrong or uncertain choice.\n",
    "\n",
    "**Sanity check: why do we need the negative sign outside the sum?**\n",
    "\n"
   ]
  },
  {
   "cell_type": "code",
   "execution_count": 7,
   "metadata": {
    "collapsed": false,
    "deletable": true,
    "editable": true
   },
   "outputs": [],
   "source": [
    "# define our loss function as the cross entropy loss\n",
    "cross_entropy_loss = tf.reduce_mean(tf.nn.softmax_cross_entropy_with_logits(labels = y_, logits = y))\n",
    "\n",
    "# create an optimizer to minimize our cross entropy loss\n",
    "optimizer = tf.train.GradientDescentOptimizer(learning_rate).minimize(cross_entropy_loss)\n",
    "\n",
    "# functions that allow us to gauge accuracy of our model\n",
    "correct_predictions = tf.equal(tf.argmax(y, 1), tf.argmax(y_, 1)) # creates a vector where each element is T or F, denoting whether our prediction was right\n",
    "accuracy = tf.reduce_mean(tf.cast(correct_predictions, tf.float32)) # maps the boolean values to 1.0 or 0.0 and calculates the accuracy\n",
    "\n",
    "# we will need to run this in our session to initialize our weights and biases. \n",
    "init = tf.global_variables_initializer()"
   ]
  },
  {
   "cell_type": "markdown",
   "metadata": {
    "deletable": true,
    "editable": true
   },
   "source": [
    "With all of our variables created and computation graph defined, we can now launch the graph in a session and begin training. It is important to remember that since we declared the $x$ and $y$ variables as placeholders, we will need to feed in data to run our optimizer that minimizes the cross entropy loss. \n",
    "\n",
    "The data we will feed in (by passing into our function a dictionary *feed_dict*) will come from the MNIST dataset. To randomly sample 100 training examples, we can use a wrapper provided by Tensorflow: ```mnnist.train.next_batch(100)```. \n",
    "\n",
    "When we run the optimizer with the call ```optimizer.run(..)``` Tensorflow calculates a forward pass for us (essentially propagating our data through the graph we have described), and then uses the loss function we created to evaluate the loss, and then computes partial derivatives with respect to each set of weights and updates the weights according to the partial derivatives. This is called the backpropagation algorithm, and it involves significant application of the chain rule. CS 231N provides an [excellent explanation](http://cs231n.github.io/optimization-2/) of backpropagation. "
   ]
  },
  {
   "cell_type": "code",
   "execution_count": 8,
   "metadata": {
    "collapsed": false,
    "deletable": true,
    "editable": true
   },
   "outputs": [
    {
     "name": "stdout",
     "output_type": "stream",
     "text": [
      "Epoch: 0, accuracy: 0.07999999821186066, loss: 2.2931833267211914\n",
      "Epoch: 100, accuracy: 0.8399999737739563, loss: 0.6990350484848022\n",
      "Epoch: 200, accuracy: 0.8700000047683716, loss: 0.35569435358047485\n",
      "Epoch: 300, accuracy: 0.9300000071525574, loss: 0.26591774821281433\n",
      "Epoch: 400, accuracy: 0.8999999761581421, loss: 0.3307000696659088\n",
      "Epoch: 500, accuracy: 0.9399999976158142, loss: 0.23977749049663544\n",
      "Epoch: 600, accuracy: 0.9800000190734863, loss: 0.09397666901350021\n",
      "Epoch: 700, accuracy: 0.9200000166893005, loss: 0.2931550145149231\n",
      "Epoch: 800, accuracy: 0.9399999976158142, loss: 0.20180968940258026\n",
      "Epoch: 900, accuracy: 0.949999988079071, loss: 0.18461622297763824\n",
      "Epoch: 1000, accuracy: 0.9700000286102295, loss: 0.18968147039413452\n",
      "Epoch: 1100, accuracy: 0.9599999785423279, loss: 0.14828498661518097\n",
      "Epoch: 1200, accuracy: 0.949999988079071, loss: 0.1613173633813858\n",
      "Epoch: 1300, accuracy: 0.9800000190734863, loss: 0.10008890926837921\n",
      "Epoch: 1400, accuracy: 0.9900000095367432, loss: 0.07440848648548126\n",
      "Epoch: 1500, accuracy: 0.9599999785423279, loss: 0.1167958676815033\n",
      "Epoch: 1600, accuracy: 0.9100000262260437, loss: 0.1591644138097763\n",
      "Epoch: 1700, accuracy: 0.9599999785423279, loss: 0.10022231936454773\n",
      "Epoch: 1800, accuracy: 0.9700000286102295, loss: 0.1086776852607727\n",
      "Epoch: 1900, accuracy: 0.9700000286102295, loss: 0.15659521520137787\n",
      "Epoch: 2000, accuracy: 0.9599999785423279, loss: 0.09391114860773087\n",
      "Epoch: 2100, accuracy: 0.9800000190734863, loss: 0.09786181151866913\n",
      "Epoch: 2200, accuracy: 0.9700000286102295, loss: 0.11428779363632202\n",
      "Epoch: 2300, accuracy: 0.9900000095367432, loss: 0.07231700420379639\n",
      "Epoch: 2400, accuracy: 0.9700000286102295, loss: 0.09908157587051392\n",
      "Epoch: 2500, accuracy: 0.9599999785423279, loss: 0.15657338500022888\n",
      "Epoch: 2600, accuracy: 0.9900000095367432, loss: 0.07787769287824631\n",
      "Epoch: 2700, accuracy: 0.9800000190734863, loss: 0.07373256981372833\n",
      "Epoch: 2800, accuracy: 0.9700000286102295, loss: 0.062044695019721985\n",
      "Epoch: 2900, accuracy: 0.9700000286102295, loss: 0.12512363493442535\n",
      "Epoch: 3000, accuracy: 0.9900000095367432, loss: 0.11000598967075348\n",
      "Epoch: 3100, accuracy: 0.9700000286102295, loss: 0.20609986782073975\n",
      "Epoch: 3200, accuracy: 0.9800000190734863, loss: 0.09811186045408249\n",
      "Epoch: 3300, accuracy: 0.9700000286102295, loss: 0.09816547483205795\n",
      "Epoch: 3400, accuracy: 0.9700000286102295, loss: 0.10826745629310608\n",
      "Epoch: 3500, accuracy: 0.9900000095367432, loss: 0.0645124614238739\n",
      "Epoch: 3600, accuracy: 0.9700000286102295, loss: 0.1555529236793518\n",
      "Epoch: 3700, accuracy: 0.9700000286102295, loss: 0.06963416188955307\n",
      "Epoch: 3800, accuracy: 0.9900000095367432, loss: 0.08054723590612411\n",
      "Epoch: 3900, accuracy: 0.9800000190734863, loss: 0.06120322644710541\n",
      "Epoch: 4000, accuracy: 0.9900000095367432, loss: 0.06058483570814133\n",
      "Epoch: 4100, accuracy: 0.9700000286102295, loss: 0.11490124464035034\n",
      "Epoch: 4200, accuracy: 0.9700000286102295, loss: 0.10046141594648361\n",
      "Epoch: 4300, accuracy: 0.9800000190734863, loss: 0.04671316221356392\n",
      "Epoch: 4400, accuracy: 0.9900000095367432, loss: 0.052477456629276276\n",
      "Epoch: 4500, accuracy: 0.9800000190734863, loss: 0.08245706558227539\n",
      "Epoch: 4600, accuracy: 0.9900000095367432, loss: 0.041497569531202316\n",
      "Epoch: 4700, accuracy: 0.9900000095367432, loss: 0.050769224762916565\n",
      "Epoch: 4800, accuracy: 0.9900000095367432, loss: 0.039090484380722046\n",
      "Epoch: 4900, accuracy: 0.9900000095367432, loss: 0.0564178042113781\n",
      "testing accuracy: 0.9653000235557556\n"
     ]
    }
   ],
   "source": [
    "# launch a session to run our graph defined above. \n",
    "with tf.Session() as sess:\n",
    "    sess.run(init) # initializes our variables\n",
    "    for i in range(num_iterations):\n",
    "        # get a sample of the dataset and run the optimizer, which calculates a forward pass and then runs the backpropagation algorithm to improve the weights\n",
    "        batch = mnist.train.next_batch(100)\n",
    "        optimizer.run(feed_dict = {x: batch[0], y_: batch[1]})\n",
    "        # every 100 iterations, print out the accuracy\n",
    "        if i % 100 == 0:\n",
    "            # accuracy and loss are both functions that take (x, y) pairs as input, and run a forward pass through the network to obtain a prediction, and then compares the prediction with the actual y.\n",
    "            acc = accuracy.eval(feed_dict = {x: batch[0], y_: batch[1]})\n",
    "            loss = cross_entropy_loss.eval(feed_dict = {x: batch[0], y_: batch[1]})\n",
    "            print(\"Epoch: {}, accuracy: {}, loss: {}\".format(i, acc, loss))\n",
    "            \n",
    "     # evaluate our testing accuracy       \n",
    "    acc = accuracy.eval(feed_dict = {x: mnist.test.images, y_: mnist.test.labels})\n",
    "    print(\"testing accuracy: {}\".format(acc))\n",
    "        "
   ]
  },
  {
   "cell_type": "markdown",
   "metadata": {
    "deletable": true,
    "editable": true
   },
   "source": [
    "### Questions to Ponder\n",
    "\n",
    "- Why is the test accuracy lower than the (final) training accuracy ?\n",
    "- Why is there only a nonlinearity in our hidden layer, and not in the output layer? \n",
    "- How can we tune our hyperparameters? In practice, is it okay to continually search for the best performance on the test dataset? \n",
    "- Why do we use only 100 examples in each iteration, as opposed to the entire dataset of 50,000 examples? \n",
    "\n",
    "### Exercises\n",
    "1. Using different activation functions. Consult the Tensorflow documentation on `tanh` and `sigmoid`, and use that as the activation function instead of `relu`. Gauge the resulting changes in accuracy. \n",
    "2. Varying the number of neurons - as mentioned, we have complete control over the number of neurons in our hidden layer. How does the testing accuracy change with a small number of neurons versus a large number of neurons? What about the generalization accuracy (with respect to the testing accuracy?)\n",
    "3. Using different loss functions - we have discussed the cross entropy loss. Another common loss function used in neural networks is the MSE loss. Consult the Tensorflow documentation and implement the ```MSELoss()``` function. \n",
    "4. Addition of another hidden layer - We can create a deeper neural network with additional hidden layers. Similar to how we created our original hidden layer, you will have to figure out the dimensions for the weights (and biases) by looking at the dimension of the previous layer, and deciding on the number of neurons you would like to use. Once you have decided this, you can simply insert another layer into the network with only a few lines of code: \n",
    "    1. Use ```weight_variable()``` and ```bias_variable()``` to create new variables for the additional layer (remember to specify the shape correctly). \n",
    "    2. Similar to computing the activations for the first layer, ```h_1 = tf.nn.relu(...)```, compute the activations for your additional hidden layer. \n",
    "    3. Remember to change your output weight dimensions in order to reflect the number of neurons in the previous layer. \n",
    "\n",
    "### More\n",
    "5. Adding dropout\n",
    "6. Using momentum optimization or other optimizers\n",
    "7. Decaying learning rate\n",
    "8. L2-regularization\n"
   ]
  },
  {
   "cell_type": "markdown",
   "metadata": {
    "collapsed": true,
    "deletable": true,
    "editable": true
   },
   "source": [
    " *Technical note: The way this loss function is presented is such that activations corresponding to a label of zero are not penalized at all. The full form of the cross-entropy loss is given by $C(y, h(x)) = \\sum_i y_i log(h(x_i)) + (1 - y_i)(log(1 - h(x_i)) $. However, the previously presented function works just as well in environments with larger amounts of data samples and training for many epochs (passes through the dataset), which is typically the case for neural networks. \n"
   ]
  }
 ],
 "metadata": {
  "kernelspec": {
   "display_name": "Python 3",
   "language": "python",
   "name": "python3"
  },
  "language_info": {
   "codemirror_mode": {
    "name": "ipython",
    "version": 3
   },
   "file_extension": ".py",
   "mimetype": "text/x-python",
   "name": "python",
   "nbconvert_exporter": "python",
   "pygments_lexer": "ipython3",
   "version": "3.5.0"
  }
 },
 "nbformat": 4,
 "nbformat_minor": 2
}
