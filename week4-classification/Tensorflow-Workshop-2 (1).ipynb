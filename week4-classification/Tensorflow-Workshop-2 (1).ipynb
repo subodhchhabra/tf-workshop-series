{
 "cells": [
  {
   "cell_type": "markdown",
   "metadata": {
    "deletable": true,
    "editable": true
   },
   "source": [
    "## Logistic Regression Example\n",
    "\n",
    "This is a demonstration of logistic regression using Tensorflow on the MNIST data set. The MNIST data set is a database of many handwritten digits (0 - 9).\n",
    "\n",
    "From a programming point of view, it is hard to define a set of rules to tell handwritten digits apart. For example, 4's can look a lot like 9's, 7's and look a lot like 1's, etc. \n",
    "\n",
    "However, this can be formulated as a classification problem and solved using logistic regression!\n"
   ]
  },
  {
   "cell_type": "markdown",
   "metadata": {
    "deletable": true,
    "editable": true
   },
   "source": [
    "#### Let's start with the easy stuff:\n"
   ]
  },
  {
   "cell_type": "code",
   "execution_count": 1,
   "metadata": {
    "collapsed": false,
    "deletable": true,
    "editable": true
   },
   "outputs": [
    {
     "name": "stdout",
     "output_type": "stream",
     "text": [
      "Extracting MNIST_data/train-images-idx3-ubyte.gz\n",
      "Extracting MNIST_data/train-labels-idx1-ubyte.gz\n",
      "Extracting MNIST_data/t10k-images-idx3-ubyte.gz\n",
      "Extracting MNIST_data/t10k-labels-idx1-ubyte.gz\n"
     ]
    }
   ],
   "source": [
    "#from draw import Paint\n",
    "import tensorflow as tf\n",
    "\n",
    "# Import MINST data\n",
    "from tensorflow.examples.tutorials.mnist import input_data\n",
    "mnist = input_data.read_data_sets(\"MNIST_data/\", one_hot=True)"
   ]
  },
  {
   "cell_type": "markdown",
   "metadata": {
    "deletable": true,
    "editable": true
   },
   "source": [
    "### Activation Function: Softmax\n",
    "Before we get into creating our logistic regression model, recall from the slides that logistic regression is simply a perceptron with an activation function applied to it. In the slides, we learned about the sigmoid function, which gives us the probability of a particular data point being in class 0 or class 1. In the case of MNIST, we have 10 classes instead of 2, so we need to use a different activation function known as softmax. "
   ]
  },
  {
   "cell_type": "code",
   "execution_count": 10,
   "metadata": {
    "collapsed": true,
    "deletable": true,
    "editable": true
   },
   "outputs": [],
   "source": [
    "# Parameters\n",
    "learning_rate = 0.20\n",
    "training_epochs = 100\n",
    "batch_size = 100\n",
    "display_step = 1\n",
    "\n",
    "# tf Graph Input\n",
    "x = tf.placeholder(tf.float32, [None, 784]) # mnist data image of shape 28*28=784\n",
    "y = tf.placeholder(tf.float32, [None, 10]) # 0-9 digits recognition => 10 classes\n",
    "\n",
    "# Set model weights\n",
    "W = tf.Variable(tf.zeros([784, 10]))\n",
    "b = tf.Variable(tf.zeros([10]))\n",
    "\n",
    "# Construct model\n",
    "pred = tf.nn.softmax(tf.matmul(x, W) + b) # Softmax"
   ]
  },
  {
   "cell_type": "markdown",
   "metadata": {
    "deletable": true,
    "editable": true
   },
   "source": [
    "### Cost Function: Cross Entropy\n",
    "\n",
    "### Optimization Strategy: Gradient Descent"
   ]
  },
  {
   "cell_type": "code",
   "execution_count": 13,
   "metadata": {
    "collapsed": false,
    "deletable": true,
    "editable": true
   },
   "outputs": [],
   "source": [
    "# Minimize error using cross entropy\n",
    "cost = tf.reduce_mean(tf.square(pred - y))\n",
    "cross_entropy_loss = tf.reduce_mean(-tf.reduce_sum(y*tf.log(pred) + (1-y)*tf.log(1-pred), reduction_indices=1))\n",
    "# Gradient Descent\n",
    "optimizer = tf.train.GradientDescentOptimizer(learning_rate).minimize(cost)\n",
    "\n",
    "# Initializing the variables\n",
    "init = tf.global_variables_initializer()"
   ]
  },
  {
   "cell_type": "code",
   "execution_count": 12,
   "metadata": {
    "collapsed": false,
    "deletable": true,
    "editable": true
   },
   "outputs": [
    {
     "name": "stdout",
     "output_type": "stream",
     "text": [
      "Epoch: 0001 cost= 0.027737698\n",
      "Epoch: 0002 cost= 0.016823012\n",
      "Epoch: 0003 cost= 0.015206469\n",
      "Epoch: 0004 cost= 0.014350620\n",
      "Epoch: 0005 cost= 0.013794621\n",
      "Epoch: 0006 cost= 0.013404010\n",
      "Epoch: 0007 cost= 0.013082235\n",
      "Epoch: 0008 cost= 0.012837860\n",
      "Epoch: 0009 cost= 0.012624153\n",
      "Epoch: 0010 cost= 0.012450459\n",
      "Epoch: 0011 cost= 0.012296339\n",
      "Epoch: 0012 cost= 0.012162039\n",
      "Epoch: 0013 cost= 0.012045197\n",
      "Epoch: 0014 cost= 0.011929937\n",
      "Epoch: 0015 cost= 0.011824967\n",
      "Epoch: 0016 cost= 0.011727359\n",
      "Epoch: 0017 cost= 0.011648565\n",
      "Epoch: 0018 cost= 0.011565599\n",
      "Epoch: 0019 cost= 0.011505096\n",
      "Epoch: 0020 cost= 0.011433710\n",
      "Epoch: 0021 cost= 0.011370935\n",
      "Epoch: 0022 cost= 0.011312782\n",
      "Epoch: 0023 cost= 0.011262402\n",
      "Epoch: 0024 cost= 0.011207809\n",
      "Epoch: 0025 cost= 0.011160744\n",
      "Epoch: 0026 cost= 0.011107433\n",
      "Epoch: 0027 cost= 0.011067594\n",
      "Epoch: 0028 cost= 0.011028339\n",
      "Epoch: 0029 cost= 0.010980952\n",
      "Epoch: 0030 cost= 0.010946421\n",
      "Epoch: 0031 cost= 0.010905509\n",
      "Epoch: 0032 cost= 0.010868684\n",
      "Epoch: 0033 cost= 0.010837574\n",
      "Epoch: 0034 cost= 0.010808411\n",
      "Epoch: 0035 cost= 0.010781374\n",
      "Epoch: 0036 cost= 0.010747319\n",
      "Epoch: 0037 cost= 0.010717780\n",
      "Epoch: 0038 cost= 0.010685182\n",
      "Epoch: 0039 cost= 0.010657589\n",
      "Epoch: 0040 cost= 0.010618190\n",
      "Epoch: 0041 cost= 0.010603236\n",
      "Epoch: 0042 cost= 0.010583765\n",
      "Epoch: 0043 cost= 0.010549949\n",
      "Epoch: 0044 cost= 0.010526188\n",
      "Epoch: 0045 cost= 0.010508132\n",
      "Epoch: 0046 cost= 0.010479071\n",
      "Epoch: 0047 cost= 0.010464163\n",
      "Epoch: 0048 cost= 0.010442081\n",
      "Epoch: 0049 cost= 0.010418160\n",
      "Epoch: 0050 cost= 0.010398604\n",
      "Epoch: 0051 cost= 0.010375302\n",
      "Epoch: 0052 cost= 0.010353720\n",
      "Epoch: 0053 cost= 0.010347154\n",
      "Epoch: 0054 cost= 0.010330187\n",
      "Epoch: 0055 cost= 0.010303832\n",
      "Epoch: 0056 cost= 0.010282325\n",
      "Epoch: 0057 cost= 0.010268648\n",
      "Epoch: 0058 cost= 0.010245991\n",
      "Epoch: 0059 cost= 0.010239860\n",
      "Epoch: 0060 cost= 0.010221110\n",
      "Epoch: 0061 cost= 0.010196951\n",
      "Epoch: 0062 cost= 0.010183149\n",
      "Epoch: 0063 cost= 0.010169473\n",
      "Epoch: 0064 cost= 0.010152821\n",
      "Epoch: 0065 cost= 0.010142939\n",
      "Epoch: 0066 cost= 0.010118315\n",
      "Epoch: 0067 cost= 0.010111371\n",
      "Epoch: 0068 cost= 0.010103016\n",
      "Epoch: 0069 cost= 0.010087945\n",
      "Epoch: 0070 cost= 0.010070702\n",
      "Epoch: 0071 cost= 0.010055830\n",
      "Epoch: 0072 cost= 0.010043398\n",
      "Epoch: 0073 cost= 0.010034282\n",
      "Epoch: 0074 cost= 0.010011323\n",
      "Epoch: 0075 cost= 0.010002071\n",
      "Epoch: 0076 cost= 0.009987500\n",
      "Epoch: 0077 cost= 0.009978394\n",
      "Epoch: 0078 cost= 0.009962127\n",
      "Epoch: 0079 cost= 0.009951464\n",
      "Epoch: 0080 cost= 0.009938991\n",
      "Epoch: 0081 cost= 0.009944263\n",
      "Epoch: 0082 cost= 0.009920608\n",
      "Epoch: 0083 cost= 0.009910470\n",
      "Epoch: 0084 cost= 0.009891711\n",
      "Epoch: 0085 cost= 0.009889820\n",
      "Epoch: 0086 cost= 0.009881881\n",
      "Epoch: 0087 cost= 0.009871186\n",
      "Epoch: 0088 cost= 0.009854358\n",
      "Epoch: 0089 cost= 0.009847268\n",
      "Epoch: 0090 cost= 0.009835725\n",
      "Epoch: 0091 cost= 0.009821028\n",
      "Epoch: 0092 cost= 0.009824177\n",
      "Epoch: 0093 cost= 0.009807171\n",
      "Epoch: 0094 cost= 0.009794719\n",
      "Epoch: 0095 cost= 0.009778530\n",
      "Epoch: 0096 cost= 0.009771627\n",
      "Epoch: 0097 cost= 0.009774899\n",
      "Epoch: 0098 cost= 0.009752845\n",
      "Epoch: 0099 cost= 0.009761819\n",
      "Epoch: 0100 cost= 0.009736896\n",
      "Optimization Finished!\n",
      "Accuracy: 0.916\n"
     ]
    }
   ],
   "source": [
    "# Launch the graph\n",
    "sess = tf.Session()\n",
    "sess.as_default()\n",
    "sess.run(init)\n",
    "\n",
    "# Training cycle\n",
    "for epoch in range(training_epochs):\n",
    "    avg_cost = 0.\n",
    "    total_batch = int(mnist.train.num_examples/batch_size)\n",
    "    # Loop over all batches\n",
    "    for i in range(total_batch):\n",
    "        batch_xs, batch_ys = mnist.train.next_batch(batch_size)\n",
    "        # Fit training using batch data\n",
    "        _, c = sess.run([optimizer, cost], feed_dict={x: batch_xs,\n",
    "                                                      y: batch_ys})\n",
    "        # Compute average loss\n",
    "        avg_cost += c / total_batch\n",
    "    # Display logs per epoch step\n",
    "    if (epoch+1) % display_step == 0:\n",
    "        print(\"Epoch:\", '%04d' % (epoch+1), \"cost=\", \"{:.9f}\".format(avg_cost))\n",
    "\n",
    "print (\"Optimization Finished!\")\n",
    "# Test model\n",
    "correct_prediction = tf.equal(tf.argmax(pred, 1), tf.argmax(y, 1))\n",
    "# Calculate accuracy for 3000 examples\n",
    "accuracy = tf.reduce_mean(tf.cast(correct_prediction, tf.float32))\n",
    "print (\"Accuracy:\", accuracy.eval({x: mnist.test.images[:3000], y: mnist.test.labels[:3000]}, session=sess))\n",
    "\n",
    "# Save Model\n",
    "saver = tf.train.Saver()\n",
    "saver.save(sess, \"model.ckpt\")\n",
    "\n",
    "sess.close()"
   ]
  },
  {
   "cell_type": "code",
   "execution_count": null,
   "metadata": {
    "collapsed": true,
    "deletable": true,
    "editable": true
   },
   "outputs": [],
   "source": []
  }
 ],
 "metadata": {
  "kernelspec": {
   "display_name": "Python 3",
   "language": "python",
   "name": "python3"
  },
  "language_info": {
   "codemirror_mode": {
    "name": "ipython",
    "version": 3
   },
   "file_extension": ".py",
   "mimetype": "text/x-python",
   "name": "python",
   "nbconvert_exporter": "python",
   "pygments_lexer": "ipython3",
   "version": "3.5.0"
  }
 },
 "nbformat": 4,
 "nbformat_minor": 2
}
