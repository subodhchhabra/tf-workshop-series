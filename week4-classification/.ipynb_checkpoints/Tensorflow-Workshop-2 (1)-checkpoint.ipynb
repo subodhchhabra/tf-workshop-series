{
 "cells": [
  {
   "cell_type": "markdown",
   "metadata": {
    "deletable": true,
    "editable": true
   },
   "source": [
    "## Logistic Regression Example\n",
    "\n",
    "This is a demonstration of logistic regression using Tensorflow on the MNIST data set. The MNIST data set is a database of many handwritten digits (0 - 9).\n",
    "\n",
    "From a programming point of view, it is hard to define a set of rules to tell handwritten digits apart. For example, 4's can look a lot like 9's, 7's and look a lot like 1's, etc. \n",
    "\n",
    "However, this can be formulated as a classification problem and solved using logistic regression!\n"
   ]
  },
  {
   "cell_type": "markdown",
   "metadata": {
    "deletable": true,
    "editable": true
   },
   "source": [
    "#### Let's start with the easy stuff:\n"
   ]
  },
  {
   "cell_type": "code",
   "execution_count": 1,
   "metadata": {
    "collapsed": false,
    "deletable": true,
    "editable": true
   },
   "outputs": [
    {
     "name": "stdout",
     "output_type": "stream",
     "text": [
      "Extracting MNIST_data/train-images-idx3-ubyte.gz\n",
      "Extracting MNIST_data/train-labels-idx1-ubyte.gz\n",
      "Extracting MNIST_data/t10k-images-idx3-ubyte.gz\n",
      "Extracting MNIST_data/t10k-labels-idx1-ubyte.gz\n"
     ]
    }
   ],
   "source": [
    "#from draw import Paint\n",
    "import tensorflow as tf\n",
    "\n",
    "# Import MINST data\n",
    "from tensorflow.examples.tutorials.mnist import input_data\n",
    "mnist = input_data.read_data_sets(\"MNIST_data/\", one_hot=True)"
   ]
  },
  {
   "cell_type": "markdown",
   "metadata": {
    "deletable": true,
    "editable": true
   },
   "source": [
    "### Activation Function: Softmax\n",
    "Before we get into creating our logistic regression model, recall from the slides that logistic regression is simply a perceptron with an activation function applied to it. In the slides, we learned about the sigmoid function, which gives us the probability of a particular data point being in class 0 or class 1. In the case of MNIST, we have 10 classes instead of 2, so we need to use a different activation function known as softmax. "
   ]
  },
  {
   "cell_type": "code",
   "execution_count": 10,
   "metadata": {
    "collapsed": true,
    "deletable": true,
    "editable": true
   },
   "outputs": [],
   "source": [
    "# Parameters\n",
    "learning_rate = 0.20\n",
    "training_epochs = 100\n",
    "batch_size = 100\n",
    "display_step = 1\n",
    "\n",
    "# tf Graph Input\n",
    "x = tf.placeholder(tf.float32, [None, 784]) # mnist data image of shape 28*28=784\n",
    "y = tf.placeholder(tf.float32, [None, 10]) # 0-9 digits recognition => 10 classes\n",
    "\n",
    "# Set model weights\n",
    "W = tf.Variable(tf.zeros([784, 10]))\n",
    "b = tf.Variable(tf.zeros([10]))\n",
    "\n",
    "# Construct model\n",
    "pred = tf.nn.softmax(tf.matmul(x, W) + b) # Softmax"
   ]
  },
  {
   "cell_type": "markdown",
   "metadata": {
    "deletable": true,
    "editable": true
   },
   "source": [
    "### Cost Function: Cross Entropy\n",
    "\n",
    "### Optimization Strategy: Gradient Descent"
   ]
  },
  {
   "cell_type": "code",
   "execution_count": null,
   "metadata": {
    "collapsed": false,
    "deletable": true,
    "editable": true
   },
   "outputs": [],
   "source": [
    "# Minimize error using cross entropy\n",
    "cost = tf.reduce_mean(tf.square(pred - y))\n",
    "cross_entropy_loss = tf.reduce_mean(-tf.reduce_sum(y*tf.log(pred) + (1-y)*tf.log(1-pred), reduction_indices=1))\n",
    "# Gradient Descent\n",
    "optimizer = tf.train.GradientDescentOptimizer(learning_rate).minimize(cost)\n",
    "\n",
    "# Initializing the variables\n",
    "init = tf.global_variables_initializer()"
   ]
  },
  {
   "cell_type": "code",
   "execution_count": null,
   "metadata": {
    "collapsed": false,
    "deletable": true,
    "editable": true
   },
   "outputs": [
    {
     "name": "stdout",
     "output_type": "stream",
     "text": [
      "Epoch: 0001 cost= 0.027737698\n",
      "Epoch: 0002 cost= 0.016823012\n",
      "Epoch: 0003 cost= 0.015206469\n",
      "Epoch: 0004 cost= 0.014350620\n",
      "Epoch: 0005 cost= 0.013794621\n",
      "Epoch: 0006 cost= 0.013404010\n",
      "Epoch: 0007 cost= 0.013082235\n",
      "Epoch: 0008 cost= 0.012837860\n",
      "Epoch: 0009 cost= 0.012624153\n",
      "Epoch: 0010 cost= 0.012450459\n",
      "Epoch: 0011 cost= 0.012296339\n",
      "Epoch: 0012 cost= 0.012162039\n",
      "Epoch: 0013 cost= 0.012045197\n",
      "Epoch: 0014 cost= 0.011929937\n",
      "Epoch: 0015 cost= 0.011824967\n",
      "Epoch: 0016 cost= 0.011727359\n",
      "Epoch: 0017 cost= 0.011648565\n",
      "Epoch: 0018 cost= 0.011565599\n",
      "Epoch: 0019 cost= 0.011505096\n",
      "Epoch: 0020 cost= 0.011433710\n",
      "Epoch: 0021 cost= 0.011370935\n",
      "Epoch: 0022 cost= 0.011312782\n",
      "Epoch: 0023 cost= 0.011262402\n",
      "Epoch: 0024 cost= 0.011207809\n",
      "Epoch: 0025 cost= 0.011160744\n",
      "Epoch: 0026 cost= 0.011107433\n",
      "Epoch: 0027 cost= 0.011067594\n",
      "Epoch: 0028 cost= 0.011028339\n",
      "Epoch: 0029 cost= 0.010980952\n",
      "Epoch: 0030 cost= 0.010946421\n"
     ]
    }
   ],
   "source": [
    "# Launch the graph\n",
    "sess = tf.Session()\n",
    "sess.as_default()\n",
    "sess.run(init)\n",
    "\n",
    "# Training cycle\n",
    "for epoch in range(training_epochs):\n",
    "    avg_cost = 0.\n",
    "    total_batch = int(mnist.train.num_examples/batch_size)\n",
    "    # Loop over all batches\n",
    "    for i in range(total_batch):\n",
    "        batch_xs, batch_ys = mnist.train.next_batch(batch_size)\n",
    "        # Fit training using batch data\n",
    "        _, c = sess.run([optimizer, cost], feed_dict={x: batch_xs,\n",
    "                                                      y: batch_ys})\n",
    "        # Compute average loss\n",
    "        avg_cost += c / total_batch\n",
    "    # Display logs per epoch step\n",
    "    if (epoch+1) % display_step == 0:\n",
    "        print(\"Epoch:\", '%04d' % (epoch+1), \"cost=\", \"{:.9f}\".format(avg_cost))\n",
    "\n",
    "print (\"Optimization Finished!\")\n",
    "# Test model\n",
    "correct_prediction = tf.equal(tf.argmax(pred, 1), tf.argmax(y, 1))\n",
    "# Calculate accuracy for 3000 examples\n",
    "accuracy = tf.reduce_mean(tf.cast(correct_prediction, tf.float32))\n",
    "print (\"Accuracy:\", accuracy.eval({x: mnist.test.images[:3000], y: mnist.test.labels[:3000]}, session=sess))\n",
    "\n",
    "# Save Model\n",
    "saver = tf.train.Saver()\n",
    "saver.save(sess, \"model.ckpt\")\n",
    "\n",
    "sess.close()"
   ]
  },
  {
   "cell_type": "code",
   "execution_count": null,
   "metadata": {
    "collapsed": true,
    "deletable": true,
    "editable": true
   },
   "outputs": [],
   "source": []
  }
 ],
 "metadata": {
  "kernelspec": {
   "display_name": "Python 3",
   "language": "python",
   "name": "python3"
  },
  "language_info": {
   "codemirror_mode": {
    "name": "ipython",
    "version": 3
   },
   "file_extension": ".py",
   "mimetype": "text/x-python",
   "name": "python",
   "nbconvert_exporter": "python",
   "pygments_lexer": "ipython3",
   "version": "3.5.0"
  }
 },
 "nbformat": 4,
 "nbformat_minor": 2
}
