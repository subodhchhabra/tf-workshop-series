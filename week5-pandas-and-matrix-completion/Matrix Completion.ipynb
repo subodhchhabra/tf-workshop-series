{
 "cells": [
  {
   "cell_type": "code",
   "execution_count": 1,
   "metadata": {
    "collapsed": false
   },
   "outputs": [],
   "source": [
    "import numpy as np\n",
    "import matplotlib.pyplot as plt\n",
    "import pandas as pd\n",
    "import math\n",
    "import tensorflow as tf\n",
    "%matplotlib inline\n",
    "\n",
    "df = pd.read_csv('FullData.csv')"
   ]
  },
  {
   "cell_type": "code",
   "execution_count": 2,
   "metadata": {
    "collapsed": false
   },
   "outputs": [
    {
     "data": {
      "text/html": [
       "<div>\n",
       "<table border=\"1\" class=\"dataframe\">\n",
       "  <thead>\n",
       "    <tr style=\"text-align: right;\">\n",
       "      <th></th>\n",
       "      <th>Name</th>\n",
       "      <th>Nationality</th>\n",
       "      <th>National_Position</th>\n",
       "      <th>National_Kit</th>\n",
       "      <th>Club</th>\n",
       "      <th>Club_Position</th>\n",
       "      <th>Club_Kit</th>\n",
       "      <th>Club_Joining</th>\n",
       "      <th>Contract_Expiry</th>\n",
       "      <th>Rating</th>\n",
       "      <th>...</th>\n",
       "      <th>Long_Shots</th>\n",
       "      <th>Curve</th>\n",
       "      <th>Freekick_Accuracy</th>\n",
       "      <th>Penalties</th>\n",
       "      <th>Volleys</th>\n",
       "      <th>GK_Positioning</th>\n",
       "      <th>GK_Diving</th>\n",
       "      <th>GK_Kicking</th>\n",
       "      <th>GK_Handling</th>\n",
       "      <th>GK_Reflexes</th>\n",
       "    </tr>\n",
       "  </thead>\n",
       "  <tbody>\n",
       "    <tr>\n",
       "      <th>0</th>\n",
       "      <td>Cristiano Ronaldo</td>\n",
       "      <td>Portugal</td>\n",
       "      <td>LS</td>\n",
       "      <td>7.0</td>\n",
       "      <td>Real Madrid</td>\n",
       "      <td>LW</td>\n",
       "      <td>7.0</td>\n",
       "      <td>07/01/2009</td>\n",
       "      <td>2021.0</td>\n",
       "      <td>94</td>\n",
       "      <td>...</td>\n",
       "      <td>90</td>\n",
       "      <td>81</td>\n",
       "      <td>76</td>\n",
       "      <td>85</td>\n",
       "      <td>88</td>\n",
       "      <td>14</td>\n",
       "      <td>7</td>\n",
       "      <td>15</td>\n",
       "      <td>11</td>\n",
       "      <td>11</td>\n",
       "    </tr>\n",
       "    <tr>\n",
       "      <th>1</th>\n",
       "      <td>Lionel Messi</td>\n",
       "      <td>Argentina</td>\n",
       "      <td>RW</td>\n",
       "      <td>10.0</td>\n",
       "      <td>FC Barcelona</td>\n",
       "      <td>RW</td>\n",
       "      <td>10.0</td>\n",
       "      <td>07/01/2004</td>\n",
       "      <td>2018.0</td>\n",
       "      <td>93</td>\n",
       "      <td>...</td>\n",
       "      <td>88</td>\n",
       "      <td>89</td>\n",
       "      <td>90</td>\n",
       "      <td>74</td>\n",
       "      <td>85</td>\n",
       "      <td>14</td>\n",
       "      <td>6</td>\n",
       "      <td>15</td>\n",
       "      <td>11</td>\n",
       "      <td>8</td>\n",
       "    </tr>\n",
       "    <tr>\n",
       "      <th>2</th>\n",
       "      <td>Neymar</td>\n",
       "      <td>Brazil</td>\n",
       "      <td>LW</td>\n",
       "      <td>10.0</td>\n",
       "      <td>FC Barcelona</td>\n",
       "      <td>LW</td>\n",
       "      <td>11.0</td>\n",
       "      <td>07/01/2013</td>\n",
       "      <td>2021.0</td>\n",
       "      <td>92</td>\n",
       "      <td>...</td>\n",
       "      <td>77</td>\n",
       "      <td>79</td>\n",
       "      <td>84</td>\n",
       "      <td>81</td>\n",
       "      <td>83</td>\n",
       "      <td>15</td>\n",
       "      <td>9</td>\n",
       "      <td>15</td>\n",
       "      <td>9</td>\n",
       "      <td>11</td>\n",
       "    </tr>\n",
       "    <tr>\n",
       "      <th>3</th>\n",
       "      <td>Luis Suárez</td>\n",
       "      <td>Uruguay</td>\n",
       "      <td>LS</td>\n",
       "      <td>9.0</td>\n",
       "      <td>FC Barcelona</td>\n",
       "      <td>ST</td>\n",
       "      <td>9.0</td>\n",
       "      <td>07/11/2014</td>\n",
       "      <td>2021.0</td>\n",
       "      <td>92</td>\n",
       "      <td>...</td>\n",
       "      <td>86</td>\n",
       "      <td>86</td>\n",
       "      <td>84</td>\n",
       "      <td>85</td>\n",
       "      <td>88</td>\n",
       "      <td>33</td>\n",
       "      <td>27</td>\n",
       "      <td>31</td>\n",
       "      <td>25</td>\n",
       "      <td>37</td>\n",
       "    </tr>\n",
       "    <tr>\n",
       "      <th>4</th>\n",
       "      <td>Manuel Neuer</td>\n",
       "      <td>Germany</td>\n",
       "      <td>GK</td>\n",
       "      <td>1.0</td>\n",
       "      <td>FC Bayern</td>\n",
       "      <td>GK</td>\n",
       "      <td>1.0</td>\n",
       "      <td>07/01/2011</td>\n",
       "      <td>2021.0</td>\n",
       "      <td>92</td>\n",
       "      <td>...</td>\n",
       "      <td>16</td>\n",
       "      <td>14</td>\n",
       "      <td>11</td>\n",
       "      <td>47</td>\n",
       "      <td>11</td>\n",
       "      <td>91</td>\n",
       "      <td>89</td>\n",
       "      <td>95</td>\n",
       "      <td>90</td>\n",
       "      <td>89</td>\n",
       "    </tr>\n",
       "  </tbody>\n",
       "</table>\n",
       "<p>5 rows × 53 columns</p>\n",
       "</div>"
      ],
      "text/plain": [
       "                Name Nationality National_Position  National_Kit  \\\n",
       "0  Cristiano Ronaldo    Portugal                LS           7.0   \n",
       "1       Lionel Messi   Argentina                RW          10.0   \n",
       "2             Neymar      Brazil                LW          10.0   \n",
       "3        Luis Suárez     Uruguay                LS           9.0   \n",
       "4       Manuel Neuer     Germany                GK           1.0   \n",
       "\n",
       "           Club Club_Position  Club_Kit Club_Joining  Contract_Expiry  Rating  \\\n",
       "0   Real Madrid            LW       7.0   07/01/2009           2021.0      94   \n",
       "1  FC Barcelona            RW      10.0   07/01/2004           2018.0      93   \n",
       "2  FC Barcelona            LW      11.0   07/01/2013           2021.0      92   \n",
       "3  FC Barcelona            ST       9.0   07/11/2014           2021.0      92   \n",
       "4     FC Bayern            GK       1.0   07/01/2011           2021.0      92   \n",
       "\n",
       "      ...      Long_Shots Curve Freekick_Accuracy Penalties  Volleys  \\\n",
       "0     ...              90    81                76        85       88   \n",
       "1     ...              88    89                90        74       85   \n",
       "2     ...              77    79                84        81       83   \n",
       "3     ...              86    86                84        85       88   \n",
       "4     ...              16    14                11        47       11   \n",
       "\n",
       "  GK_Positioning GK_Diving  GK_Kicking  GK_Handling  GK_Reflexes  \n",
       "0             14         7          15           11           11  \n",
       "1             14         6          15           11            8  \n",
       "2             15         9          15            9           11  \n",
       "3             33        27          31           25           37  \n",
       "4             91        89          95           90           89  \n",
       "\n",
       "[5 rows x 53 columns]"
      ]
     },
     "execution_count": 2,
     "metadata": {},
     "output_type": "execute_result"
    }
   ],
   "source": [
    "df.head()"
   ]
  },
  {
   "cell_type": "markdown",
   "metadata": {},
   "source": [
    "# Let's remove some stuff in here"
   ]
  },
  {
   "cell_type": "code",
   "execution_count": 3,
   "metadata": {
    "collapsed": false
   },
   "outputs": [
    {
     "data": {
      "text/plain": [
       "(17588, 53)"
      ]
     },
     "execution_count": 3,
     "metadata": {},
     "output_type": "execute_result"
    }
   ],
   "source": [
    "df.shape"
   ]
  },
  {
   "cell_type": "code",
   "execution_count": 4,
   "metadata": {
    "collapsed": false
   },
   "outputs": [
    {
     "data": {
      "text/plain": [
       "['Name',\n",
       " 'Nationality',\n",
       " 'National_Position',\n",
       " 'National_Kit',\n",
       " 'Club',\n",
       " 'Club_Position',\n",
       " 'Club_Kit',\n",
       " 'Club_Joining',\n",
       " 'Contract_Expiry',\n",
       " 'Rating',\n",
       " 'Height',\n",
       " 'Weight',\n",
       " 'Preffered_Foot',\n",
       " 'Birth_Date',\n",
       " 'Age',\n",
       " 'Preffered_Position',\n",
       " 'Work_Rate',\n",
       " 'Weak_foot',\n",
       " 'Skill_Moves',\n",
       " 'Ball_Control',\n",
       " 'Dribbling',\n",
       " 'Marking',\n",
       " 'Sliding_Tackle',\n",
       " 'Standing_Tackle',\n",
       " 'Aggression',\n",
       " 'Reactions',\n",
       " 'Attacking_Position',\n",
       " 'Interceptions',\n",
       " 'Vision',\n",
       " 'Composure',\n",
       " 'Crossing',\n",
       " 'Short_Pass',\n",
       " 'Long_Pass',\n",
       " 'Acceleration',\n",
       " 'Speed',\n",
       " 'Stamina',\n",
       " 'Strength',\n",
       " 'Balance',\n",
       " 'Agility',\n",
       " 'Jumping',\n",
       " 'Heading',\n",
       " 'Shot_Power',\n",
       " 'Finishing',\n",
       " 'Long_Shots',\n",
       " 'Curve',\n",
       " 'Freekick_Accuracy',\n",
       " 'Penalties',\n",
       " 'Volleys',\n",
       " 'GK_Positioning',\n",
       " 'GK_Diving',\n",
       " 'GK_Kicking',\n",
       " 'GK_Handling',\n",
       " 'GK_Reflexes']"
      ]
     },
     "execution_count": 4,
     "metadata": {},
     "output_type": "execute_result"
    }
   ],
   "source": [
    "df.columns.tolist()"
   ]
  },
  {
   "cell_type": "code",
   "execution_count": 5,
   "metadata": {
    "collapsed": false
   },
   "outputs": [
    {
     "data": {
      "text/plain": [
       "Name                      0\n",
       "Nationality               0\n",
       "National_Position     16513\n",
       "National_Kit          16513\n",
       "Club                      0\n",
       "Club_Position             1\n",
       "Club_Kit                  1\n",
       "Club_Joining              1\n",
       "Contract_Expiry           1\n",
       "Rating                    0\n",
       "Height                    0\n",
       "Weight                    0\n",
       "Preffered_Foot            0\n",
       "Birth_Date                0\n",
       "Age                       0\n",
       "Preffered_Position        0\n",
       "Work_Rate                 0\n",
       "Weak_foot                 0\n",
       "Skill_Moves               0\n",
       "Ball_Control              0\n",
       "Dribbling                 0\n",
       "Marking                   0\n",
       "Sliding_Tackle            0\n",
       "Standing_Tackle           0\n",
       "Aggression                0\n",
       "Reactions                 0\n",
       "Attacking_Position        0\n",
       "Interceptions             0\n",
       "Vision                    0\n",
       "Composure                 0\n",
       "Crossing                  0\n",
       "Short_Pass                0\n",
       "Long_Pass                 0\n",
       "Acceleration              0\n",
       "Speed                     0\n",
       "Stamina                   0\n",
       "Strength                  0\n",
       "Balance                   0\n",
       "Agility                   0\n",
       "Jumping                   0\n",
       "Heading                   0\n",
       "Shot_Power                0\n",
       "Finishing                 0\n",
       "Long_Shots                0\n",
       "Curve                     0\n",
       "Freekick_Accuracy         0\n",
       "Penalties                 0\n",
       "Volleys                   0\n",
       "GK_Positioning            0\n",
       "GK_Diving                 0\n",
       "GK_Kicking                0\n",
       "GK_Handling               0\n",
       "GK_Reflexes               0\n",
       "dtype: int64"
      ]
     },
     "execution_count": 5,
     "metadata": {},
     "output_type": "execute_result"
    }
   ],
   "source": [
    "df.isnull().sum()"
   ]
  },
  {
   "cell_type": "markdown",
   "metadata": {},
   "source": [
    "# Looks like National_position and National_kit are very NaN. Let's drop them."
   ]
  },
  {
   "cell_type": "code",
   "execution_count": 6,
   "metadata": {
    "collapsed": false
   },
   "outputs": [],
   "source": [
    "df.drop(['National_Position','National_Kit','Contract_Expiry','Name','Club','Birth_Date','Weight','Height'], axis=1, inplace=True)\n",
    "df = df.dropna()"
   ]
  },
  {
   "cell_type": "code",
   "execution_count": 7,
   "metadata": {
    "collapsed": false
   },
   "outputs": [
    {
     "data": {
      "text/plain": [
       "Nationality           0\n",
       "Club_Position         0\n",
       "Club_Kit              0\n",
       "Club_Joining          0\n",
       "Rating                0\n",
       "Preffered_Foot        0\n",
       "Age                   0\n",
       "Preffered_Position    0\n",
       "Work_Rate             0\n",
       "Weak_foot             0\n",
       "Skill_Moves           0\n",
       "Ball_Control          0\n",
       "Dribbling             0\n",
       "Marking               0\n",
       "Sliding_Tackle        0\n",
       "Standing_Tackle       0\n",
       "Aggression            0\n",
       "Reactions             0\n",
       "Attacking_Position    0\n",
       "Interceptions         0\n",
       "Vision                0\n",
       "Composure             0\n",
       "Crossing              0\n",
       "Short_Pass            0\n",
       "Long_Pass             0\n",
       "Acceleration          0\n",
       "Speed                 0\n",
       "Stamina               0\n",
       "Strength              0\n",
       "Balance               0\n",
       "Agility               0\n",
       "Jumping               0\n",
       "Heading               0\n",
       "Shot_Power            0\n",
       "Finishing             0\n",
       "Long_Shots            0\n",
       "Curve                 0\n",
       "Freekick_Accuracy     0\n",
       "Penalties             0\n",
       "Volleys               0\n",
       "GK_Positioning        0\n",
       "GK_Diving             0\n",
       "GK_Kicking            0\n",
       "GK_Handling           0\n",
       "GK_Reflexes           0\n",
       "dtype: int64"
      ]
     },
     "execution_count": 7,
     "metadata": {},
     "output_type": "execute_result"
    }
   ],
   "source": [
    "df.isnull().sum()"
   ]
  },
  {
   "cell_type": "code",
   "execution_count": 8,
   "metadata": {
    "collapsed": false
   },
   "outputs": [
    {
     "data": {
      "text/plain": [
       "(17587, 45)"
      ]
     },
     "execution_count": 8,
     "metadata": {},
     "output_type": "execute_result"
    }
   ],
   "source": [
    "df.shape"
   ]
  },
  {
   "cell_type": "code",
   "execution_count": 9,
   "metadata": {
    "collapsed": false
   },
   "outputs": [
    {
     "data": {
      "text/plain": [
       "Nationality             Portugal\n",
       "Club_Position                 LW\n",
       "Club_Kit                       7\n",
       "Club_Joining          07/01/2009\n",
       "Rating                        94\n",
       "Preffered_Foot             Right\n",
       "Age                           32\n",
       "Preffered_Position         LW/ST\n",
       "Work_Rate             High / Low\n",
       "Weak_foot                      4\n",
       "Skill_Moves                    5\n",
       "Ball_Control                  93\n",
       "Dribbling                     92\n",
       "Marking                       22\n",
       "Sliding_Tackle                23\n",
       "Standing_Tackle               31\n",
       "Aggression                    63\n",
       "Reactions                     96\n",
       "Attacking_Position            94\n",
       "Interceptions                 29\n",
       "Vision                        85\n",
       "Composure                     86\n",
       "Crossing                      84\n",
       "Short_Pass                    83\n",
       "Long_Pass                     77\n",
       "Acceleration                  91\n",
       "Speed                         92\n",
       "Stamina                       92\n",
       "Strength                      80\n",
       "Balance                       63\n",
       "Agility                       90\n",
       "Jumping                       95\n",
       "Heading                       85\n",
       "Shot_Power                    92\n",
       "Finishing                     93\n",
       "Long_Shots                    90\n",
       "Curve                         81\n",
       "Freekick_Accuracy             76\n",
       "Penalties                     85\n",
       "Volleys                       88\n",
       "GK_Positioning                14\n",
       "GK_Diving                      7\n",
       "GK_Kicking                    15\n",
       "GK_Handling                   11\n",
       "GK_Reflexes                   11\n",
       "Name: 0, dtype: object"
      ]
     },
     "execution_count": 9,
     "metadata": {},
     "output_type": "execute_result"
    }
   ],
   "source": [
    "df.iloc[0]"
   ]
  },
  {
   "cell_type": "code",
   "execution_count": 10,
   "metadata": {
    "collapsed": false
   },
   "outputs": [],
   "source": [
    "df[df.select_dtypes(exclude=[np.number]).columns] = df.select_dtypes(exclude=[np.number]).apply(lambda x: pd.factorize(x)[0])"
   ]
  },
  {
   "cell_type": "code",
   "execution_count": 11,
   "metadata": {
    "collapsed": false
   },
   "outputs": [
    {
     "data": {
      "text/plain": [
       "Nationality            0.0\n",
       "Club_Position          0.0\n",
       "Club_Kit               7.0\n",
       "Club_Joining           0.0\n",
       "Rating                94.0\n",
       "Preffered_Foot         0.0\n",
       "Age                   32.0\n",
       "Preffered_Position     0.0\n",
       "Work_Rate              0.0\n",
       "Weak_foot              4.0\n",
       "Skill_Moves            5.0\n",
       "Ball_Control          93.0\n",
       "Dribbling             92.0\n",
       "Marking               22.0\n",
       "Sliding_Tackle        23.0\n",
       "Standing_Tackle       31.0\n",
       "Aggression            63.0\n",
       "Reactions             96.0\n",
       "Attacking_Position    94.0\n",
       "Interceptions         29.0\n",
       "Vision                85.0\n",
       "Composure             86.0\n",
       "Crossing              84.0\n",
       "Short_Pass            83.0\n",
       "Long_Pass             77.0\n",
       "Acceleration          91.0\n",
       "Speed                 92.0\n",
       "Stamina               92.0\n",
       "Strength              80.0\n",
       "Balance               63.0\n",
       "Agility               90.0\n",
       "Jumping               95.0\n",
       "Heading               85.0\n",
       "Shot_Power            92.0\n",
       "Finishing             93.0\n",
       "Long_Shots            90.0\n",
       "Curve                 81.0\n",
       "Freekick_Accuracy     76.0\n",
       "Penalties             85.0\n",
       "Volleys               88.0\n",
       "GK_Positioning        14.0\n",
       "GK_Diving              7.0\n",
       "GK_Kicking            15.0\n",
       "GK_Handling           11.0\n",
       "GK_Reflexes           11.0\n",
       "Name: 0, dtype: float64"
      ]
     },
     "execution_count": 11,
     "metadata": {},
     "output_type": "execute_result"
    }
   ],
   "source": [
    "# Check afterwards\n",
    "df.iloc[0]"
   ]
  },
  {
   "cell_type": "code",
   "execution_count": 12,
   "metadata": {
    "collapsed": false
   },
   "outputs": [
    {
     "data": {
      "text/plain": [
       "numpy.ndarray"
      ]
     },
     "execution_count": 12,
     "metadata": {},
     "output_type": "execute_result"
    }
   ],
   "source": [
    "mat = df.values\n",
    "mat.shape\n",
    "type(mat)"
   ]
  },
  {
   "cell_type": "markdown",
   "metadata": {},
   "source": [
    "# Let's do some biconvex matrix completion yay"
   ]
  },
  {
   "cell_type": "code",
   "execution_count": 13,
   "metadata": {
    "collapsed": false
   },
   "outputs": [
    {
     "name": "stdout",
     "output_type": "stream",
     "text": [
      "[11704    32]\n"
     ]
    },
    {
     "data": {
      "text/plain": [
       "array([[ 1.,  1.,  1., ...,  1.,  1.,  1.],\n",
       "       [ 1.,  1.,  1., ...,  1.,  1.,  1.],\n",
       "       [ 1.,  1.,  1., ...,  1.,  1.,  1.],\n",
       "       ..., \n",
       "       [ 1.,  1.,  1., ...,  1.,  1.,  1.],\n",
       "       [ 1.,  1.,  1., ...,  1.,  1.,  1.],\n",
       "       [ 1.,  1.,  1., ...,  1.,  1.,  1.]])"
      ]
     },
     "execution_count": 13,
     "metadata": {},
     "output_type": "execute_result"
    }
   ],
   "source": [
    "y = mat\n",
    "# Turn random index of every matrix into NaN.\n",
    "m,n = y.shape\n",
    "num_to_remove = 100 # 20000 values(roughly)\n",
    "keep = np.ones((m,n))\n",
    "to_remove = np.array([np.random.randint(m,size=(num_to_remove,)), np.random.randint(n,size=(num_to_remove,))]).T\n",
    "print(to_remove[0,:20])\n",
    "keep[to_remove[:,0], to_remove[:,1]] = 0\n",
    "to_remove.shape\n",
    "keep"
   ]
  },
  {
   "cell_type": "code",
   "execution_count": 14,
   "metadata": {
    "collapsed": false
   },
   "outputs": [
    {
     "data": {
      "text/plain": [
       "array([[  0.,   0.,   7., ...,  15.,  11.,  11.],\n",
       "       [  1.,   1.,  10., ...,  15.,  11.,   8.],\n",
       "       [  2.,   0.,  11., ...,  15.,   9.,  11.],\n",
       "       ..., \n",
       "       [ 21.,  21.,  32., ...,  13.,  14.,   7.],\n",
       "       [ 69.,   4.,  45., ...,  44.,  43.,  45.],\n",
       "       [ 21.,   4.,  13., ...,  37.,  51.,  33.]])"
      ]
     },
     "execution_count": 14,
     "metadata": {},
     "output_type": "execute_result"
    }
   ],
   "source": [
    "x = y.copy()\n",
    "x"
   ]
  },
  {
   "cell_type": "markdown",
   "metadata": {},
   "source": [
    "# So we pretty much want to start with some assumptions:\n",
    "Our data lies within a lower dimension. I.e. the matrix is sparse.\n",
    "$X = LR^T$, where $X \\in \\mathbb{R}^{mxn}$, and $L \\in \\mathbb{R}^{mxp}$, $R \\in \\mathbb{R}^{nxp}$. \n",
    "\n",
    "Using the spectral decomposition, one can see that $L = U\\Sigma^{1/2}$ and $R = V\\Sigma^{1/2}$.\n",
    "\n",
    "By definition, $rank(X) \\leq p$ if p is small.\n",
    "\n",
    "The optimization objective is:\n",
    "\n",
    "$min_{L,R} ||L||^2_F + ||R||^2_F$\n",
    "\n",
    "s.t. $LR^T = X$.\n",
    "\n",
    "However, the above is not a convex formulation. It is an NP-hard objective to optimize, and we prefer convex optimization problems. Therefore, we write:\n",
    "\n",
    "$min_{L,R} \\sum_{(i,j) \\in \\Omega} ((LR^T)_{i,j} - X_{i,j})^2 + \\lambda(||L||^2_F + ||R||^2_F)$ unconstrained, imposing an implicit proximal operator of $prox_{\\lambda L}$ where L is the MSE."
   ]
  },
  {
   "cell_type": "code",
   "execution_count": 15,
   "metadata": {
    "collapsed": false
   },
   "outputs": [],
   "source": [
    "p = 20 # Assume our data lies within rank 30 singular matrix.\n",
    "learning_rate = 1e-3\n",
    "train_iter = 10000\n",
    "\n",
    "L = tf.Variable(tf.truncated_normal([m,p]), name=\"players\")\n",
    "R = tf.Variable(tf.truncated_normal([n,p]), name=\"features\")\n",
    "X = tf.placeholder(tf.float32, shape=[m,n])\n",
    "Keep = tf.placeholder(tf.float32, shape=[m,n])\n",
    "Lambda = tf.placeholder(tf.float32)"
   ]
  },
  {
   "cell_type": "code",
   "execution_count": 16,
   "metadata": {
    "collapsed": false
   },
   "outputs": [
    {
     "name": "stdout",
     "output_type": "stream",
     "text": [
      "6.66267e+09\n",
      "6.61063e+09\n",
      "6.49309e+09\n",
      "6.30619e+09\n",
      "6.06693e+09\n",
      "5.79632e+09\n",
      "5.51477e+09\n",
      "5.23935e+09\n",
      "4.98255e+09\n",
      "4.7525e+09\n",
      "4.55309e+09\n",
      "4.38408e+09\n",
      "4.24208e+09\n",
      "4.12179e+09\n",
      "4.01738e+09\n",
      "3.92359e+09\n",
      "3.83621e+09\n",
      "3.75215e+09\n",
      "3.66927e+09\n",
      "3.58611e+09\n",
      "3.50171e+09\n",
      "3.41551e+09\n",
      "3.32724e+09\n",
      "3.23688e+09\n",
      "3.14466e+09\n",
      "3.05095e+09\n",
      "2.95625e+09\n",
      "2.86113e+09\n",
      "2.76616e+09\n",
      "2.6719e+09\n",
      "2.57881e+09\n",
      "2.48724e+09\n",
      "2.39742e+09\n",
      "2.30939e+09\n",
      "2.22303e+09\n",
      "2.13802e+09\n",
      "2.05384e+09\n",
      "1.96986e+09\n",
      "1.88533e+09\n",
      "1.79954e+09\n",
      "1.71198e+09\n",
      "1.62251e+09\n",
      "1.53151e+09\n",
      "1.43977e+09\n",
      "1.34843e+09\n",
      "1.25868e+09\n",
      "1.17163e+09\n",
      "1.08812e+09\n",
      "1.00874e+09\n",
      "9.33811e+08\n",
      "8.63473e+08\n",
      "7.97713e+08\n",
      "7.36425e+08\n",
      "6.79439e+08\n",
      "6.26545e+08\n",
      "5.77519e+08\n",
      "5.32123e+08\n",
      "4.90123e+08\n",
      "4.51286e+08\n",
      "4.15386e+08\n",
      "3.82207e+08\n",
      "3.5155e+08\n",
      "3.23225e+08\n",
      "2.97058e+08\n",
      "2.72892e+08\n",
      "2.5058e+08\n",
      "2.29992e+08\n",
      "2.11004e+08\n",
      "1.93507e+08\n",
      "1.77397e+08\n",
      "1.62579e+08\n",
      "1.48963e+08\n",
      "1.36467e+08\n",
      "1.25013e+08\n",
      "1.14528e+08\n",
      "1.04943e+08\n",
      "9.61959e+07\n",
      "8.82267e+07\n",
      "8.09805e+07\n",
      "7.4405e+07\n",
      "6.84509e+07\n",
      "6.30713e+07\n",
      "5.82211e+07\n",
      "5.38565e+07\n",
      "4.99359e+07\n",
      "4.64189e+07\n",
      "4.3267e+07\n",
      "4.04436e+07\n",
      "3.79143e+07\n",
      "3.56471e+07\n",
      "3.36123e+07\n",
      "3.17829e+07\n",
      "3.01342e+07\n",
      "2.86441e+07\n",
      "2.72927e+07\n",
      "2.60626e+07\n",
      "2.49384e+07\n",
      "2.39065e+07\n",
      "2.29553e+07\n",
      "2.20746e+07\n"
     ]
    }
   ],
   "source": [
    "predict = tf.matmul(L,tf.transpose(R))\n",
    "result = tf.reduce_sum((tf.square(predict- X)) * Keep)\n",
    "loss = result + Lambda*(tf.norm(L) + tf.norm(R))\n",
    "train_op = tf.train.AdamOptimizer(learning_rate).minimize(loss)\n",
    "\n",
    "init_op = tf.global_variables_initializer()\n",
    "\n",
    "with tf.Session() as sess:\n",
    "    sess.run(init_op)\n",
    "    for i in range(train_iter):\n",
    "        _,val = sess.run([train_op, loss], feed_dict={X : x, Keep : keep, Lambda : 1.0})\n",
    "        if i % 100 == 0:\n",
    "            print(val)\n",
    "    \n",
    "    # Prediction:\n",
    "    ans = sess.run(predict)"
   ]
  },
  {
   "cell_type": "code",
   "execution_count": 17,
   "metadata": {
    "collapsed": false
   },
   "outputs": [
    {
     "name": "stdout",
     "output_type": "stream",
     "text": [
      "[[  7.63087692e+01   8.00000000e+01]\n",
      " [  7.37039185e+01   7.40000000e+01]\n",
      " [  8.14593201e+01   7.30000000e+01]\n",
      " [  8.13432083e+01   9.00000000e+01]\n",
      " [  6.87206497e+01   7.80000000e+01]\n",
      " [  1.10836821e+01   4.00000000e+00]\n",
      " [  1.11151228e+01   1.60000000e+01]\n",
      " [  6.54067307e+01   6.90000000e+01]\n",
      " [  5.15516663e+01   5.90000000e+01]\n",
      " [ -6.98774815e+00   4.00000000e+00]\n",
      " [  6.97809525e+01   7.60000000e+01]\n",
      " [  5.53108521e+01   5.40000000e+01]\n",
      " [  3.90206482e+02   6.91000000e+02]\n",
      " [  5.76114868e+02   4.22000000e+02]\n",
      " [  2.84120655e+00   3.00000000e+00]\n",
      " [  3.60661209e-01   0.00000000e+00]\n",
      " [  5.00786476e+01   6.70000000e+01]\n",
      " [  7.83588257e+01   9.00000000e+01]\n",
      " [  2.91611624e+00   2.00000000e+00]\n",
      " [  2.63210754e+01   3.00000000e+01]\n",
      " [  6.43506088e+01   6.60000000e+01]\n",
      " [  6.67092743e+01   7.60000000e+01]\n",
      " [  2.06210375e+00   2.00000000e+00]\n",
      " [  1.17174644e+01   1.40000000e+01]\n",
      " [  5.05693436e+01   2.30000000e+01]\n",
      " [  2.22066784e+01   7.00000000e+00]\n",
      " [  4.98724518e+01   5.10000000e+01]\n",
      " [  1.14861679e+01   1.40000000e+01]\n",
      " [  7.24540787e+01   7.40000000e+01]\n",
      " [  4.43803177e+01   6.30000000e+01]\n",
      " [  6.94720001e+01   7.00000000e+01]\n",
      " [  1.89488449e+01   2.30000000e+01]\n",
      " [  2.77174988e+01   8.00000000e+00]\n",
      " [  3.87748146e+01   5.20000000e+01]\n",
      " [  5.33029861e+01   6.40000000e+01]\n",
      " [  7.94714050e+01   7.90000000e+01]\n",
      " [  7.32842255e+01   7.50000000e+01]\n",
      " [  6.64224396e+01   6.30000000e+01]\n",
      " [  6.77862396e+01   6.50000000e+01]\n",
      " [  5.41237335e+01   4.80000000e+01]\n",
      " [  2.35043347e-01   0.00000000e+00]\n",
      " [  4.50710831e+01   5.30000000e+01]\n",
      " [  7.99451256e+00   4.00000000e+00]\n",
      " [  6.28770180e+01   6.40000000e+01]\n",
      " [  1.28276863e+01   1.40000000e+01]\n",
      " [  4.41559982e+01   5.30000000e+01]\n",
      " [  1.34448090e+01   1.40000000e+01]\n",
      " [  6.23244705e+01   6.40000000e+01]\n",
      " [  5.34634132e+01   5.00000000e+01]\n",
      " [  6.39349670e+01   6.20000000e+01]\n",
      " [  6.97529221e+01   6.60000000e+01]\n",
      " [  6.76832962e+01   5.70000000e+01]\n",
      " [  6.47023163e+01   6.60000000e+01]\n",
      " [  4.99271736e+01   5.40000000e+01]\n",
      " [  8.87478828e+00   1.30000000e+01]\n",
      " [  7.82747116e+01   6.50000000e+01]\n",
      " [  2.22572346e+01   2.40000000e+01]\n",
      " [  6.05636292e+01   6.50000000e+01]\n",
      " [  1.61856937e+01   1.20000000e+01]\n",
      " [  5.54921684e+01   5.60000000e+01]\n",
      " [  2.94192863e+00   3.00000000e+00]\n",
      " [  3.61568642e+01   2.00000000e+01]\n",
      " [  7.75034790e+01   7.50000000e+01]\n",
      " [  5.65849724e+01   6.60000000e+01]\n",
      " [  3.01682587e+01   1.00000000e+00]\n",
      " [  4.62142601e+01   4.60000000e+01]\n",
      " [  5.74424515e+01   5.30000000e+01]\n",
      " [  6.66615067e+01   5.80000000e+01]\n",
      " [  7.76919556e+01   7.10000000e+01]\n",
      " [  7.30089569e+01   5.90000000e+01]\n",
      " [  4.74820557e+01   6.00000000e+01]\n",
      " [  6.08442879e+01   5.70000000e+01]\n",
      " [  4.53217697e+01   1.50000000e+01]\n",
      " [  2.50271869e+00   2.00000000e+00]\n",
      " [  5.00091820e+01   6.10000000e+01]\n",
      " [  6.32946625e+01   7.00000000e+01]\n",
      " [  5.18606720e+01   4.30000000e+01]\n",
      " [  1.57508627e-01   1.00000000e+00]\n",
      " [  3.03711185e+01   3.00000000e+01]\n",
      " [  1.85553181e+00   2.00000000e+00]\n",
      " [  2.04319406e+00   2.00000000e+00]\n",
      " [  6.10849686e+01   6.00000000e+01]\n",
      " [  2.15341969e+01   2.30000000e+01]\n",
      " [  1.48752508e+01   2.10000000e+01]\n",
      " [  8.01750088e+00   1.30000000e+01]\n",
      " [  6.60486374e+01   4.50000000e+01]\n",
      " [  4.94922562e+01   5.40000000e+01]\n",
      " [  6.22845726e+01   5.40000000e+01]\n",
      " [  1.89036999e+01   1.70000000e+01]\n",
      " [  2.72726417e-01   1.00000000e+00]\n",
      " [  6.30349998e+01   4.00000000e+01]\n",
      " [  7.45376740e+01   6.80000000e+01]\n",
      " [  5.60356712e+01   5.00000000e+01]\n",
      " [  1.70528545e+01   2.10000000e+01]\n",
      " [  5.17533684e+01   5.20000000e+01]\n",
      " [  8.81036377e+00   1.50000000e+01]\n",
      " [  8.44408417e+00   1.40000000e+01]\n",
      " [  5.13321915e+01   5.30000000e+01]\n",
      " [  6.27183838e+01   6.20000000e+01]\n",
      " [  5.75107689e+01   4.70000000e+01]]\n"
     ]
    }
   ],
   "source": [
    "# Look at the not-computed values:\n",
    "quick_look = np.array([ans[~keep.astype(np.bool)], x[~keep.astype(np.bool)]]).T\n",
    "np.set_printoptions(threshold=np.inf) # Just print the entire thing unless you set the missing values too high:\n",
    "print(quick_look)"
   ]
  },
  {
   "cell_type": "code",
   "execution_count": null,
   "metadata": {
    "collapsed": true
   },
   "outputs": [],
   "source": []
  }
 ],
 "metadata": {
  "kernelspec": {
   "display_name": "Python [Root]",
   "language": "python",
   "name": "Python [Root]"
  },
  "language_info": {
   "codemirror_mode": {
    "name": "ipython",
    "version": 3
   },
   "file_extension": ".py",
   "mimetype": "text/x-python",
   "name": "python",
   "nbconvert_exporter": "python",
   "pygments_lexer": "ipython3",
   "version": "3.5.2"
  }
 },
 "nbformat": 4,
 "nbformat_minor": 2
}
